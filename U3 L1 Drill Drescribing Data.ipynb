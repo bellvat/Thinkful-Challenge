{
 "cells": [
  {
   "cell_type": "markdown",
   "metadata": {},
   "source": [
    "## 1 by Hand"
   ]
  },
  {
   "cell_type": "code",
   "execution_count": 17,
   "metadata": {
    "collapsed": false
   },
   "outputs": [
    {
     "name": "stdout",
     "output_type": "stream",
     "text": [
      "Mean 9.857142857142858\n",
      "Median 10\n",
      "Mode 8\n",
      "Variance 7.476190476190475\n",
      "Standard Deviation 2.734262327610589\n",
      "Standard Error 1.0334540197243192\n"
     ]
    }
   ],
   "source": [
    "mean = (14+12+11+10+8+6+8)/7\n",
    "median = 10\n",
    "mode = 8\n",
    "lt= [6,8,8,10,11,12,14]\n",
    "\n",
    "def sum_lt(data):\n",
    "    result = 0\n",
    "    for num in data:\n",
    "        result += (num-mean)**2\n",
    "    return result\n",
    "\n",
    "\n",
    "variance = sum_lt(lt)/(7-1)\n",
    "s= variance**.5\n",
    "se= s/(7**.5)\n",
    "\n",
    "print (\"Mean\" , mean)\n",
    "print (\"Median\", median)\n",
    "print (\"Mode\", mode)\n",
    "print (\"Variance\", variance)\n",
    "print (\"Standard Deviation\", s)\n",
    "print (\"Standard Error\", se)"
   ]
  },
  {
   "cell_type": "markdown",
   "metadata": {},
   "source": [
    "## 1 by python"
   ]
  },
  {
   "cell_type": "code",
   "execution_count": 15,
   "metadata": {
    "collapsed": true
   },
   "outputs": [],
   "source": [
    "import numpy as np\n",
    "import statistics"
   ]
  },
  {
   "cell_type": "code",
   "execution_count": 16,
   "metadata": {
    "collapsed": false
   },
   "outputs": [
    {
     "name": "stdout",
     "output_type": "stream",
     "text": [
      "Mean 9.85714285714\n",
      "Median 10.0\n",
      "Mode 8\n",
      "Variance 6.40816326531\n",
      "Standard Deviation 2.73426232761\n",
      "Standard Error 1.03345401972\n"
     ]
    }
   ],
   "source": [
    "lt= [6,8,8,10,11,12,14]\n",
    "mean = np.mean(lt)\n",
    "median = np.median(lt)\n",
    "mode = statistics.mode(lt)\n",
    "variance = np.var(lt)\n",
    "s= np.std(lt,ddof=1)\n",
    "se = s/(len(lt)**.5)\n",
    "\n",
    "print (\"Mean\" , mean)\n",
    "print (\"Median\", median)\n",
    "print (\"Mode\", mode)\n",
    "print (\"Variance\", variance)\n",
    "print (\"Standard Deviation\", s)\n",
    "print (\"Standard Error\", se)"
   ]
  },
  {
   "cell_type": "markdown",
   "metadata": {},
   "source": [
    "## 2 \n",
    "\n",
    "Central tendency: Mean, Reason: The highest and lowest numbers appear to be close and neither skews the mean.\n",
    "\n",
    "Variance : Standard Deviation, Reason: The data points are 2-3 points from the mean, and the standard deviation represents that fact."
   ]
  },
  {
   "cell_type": "markdown",
   "metadata": {},
   "source": [
    "## 3 \n",
    "\n",
    "Changed: \n",
    "\n",
    "    Mean increased, \n",
    "\n",
    "    Variance, SD and SE decreased\n",
    "\n",
    "Unchanged:\n",
    "\n",
    "    Median\n",
    "\n",
    "    Mode"
   ]
  },
  {
   "cell_type": "code",
   "execution_count": 19,
   "metadata": {
    "collapsed": false
   },
   "outputs": [
    {
     "name": "stdout",
     "output_type": "stream",
     "text": [
      "Mean 10.0\n",
      "Median 10.0\n",
      "Mode 8\n",
      "Variance 5.42857142857\n",
      "Standard Deviation 2.51661147842\n",
      "Standard Error 0.951189731211\n"
     ]
    }
   ],
   "source": [
    "lt_c= [7,8,8,10,11,12,14]\n",
    "mean = np.mean(lt_c)\n",
    "median = np.median(lt_c)\n",
    "mode = statistics.mode(lt_c)\n",
    "variance = np.var(lt_c)\n",
    "s= np.std(lt_c,ddof=1)\n",
    "se = s/(len(lt_c)**.5)\n",
    "\n",
    "print (\"Mean\" , mean)\n",
    "print (\"Median\", median)\n",
    "print (\"Mode\", mode)\n",
    "print (\"Variance\", variance)\n",
    "print (\"Standard Deviation\", s)\n",
    "print (\"Standard Error\", se)"
   ]
  },
  {
   "cell_type": "markdown",
   "metadata": {},
   "source": [
    "## 4\n",
    "Changed: \n",
    "\n",
    "    Mean increased, \n",
    "\n",
    "    Mode decreased (now none)\n",
    "    \n",
    "    Variance, SD and SE increased\n",
    "\n",
    "Unchanged:\n",
    "\n",
    "    Median"
   ]
  },
  {
   "cell_type": "code",
   "execution_count": 23,
   "metadata": {
    "collapsed": false
   },
   "outputs": [
    {
     "name": "stdout",
     "output_type": "stream",
     "text": [
      "Mean 9.0\n",
      "Median 10.0\n",
      "Mode 0\n",
      "Variance 15.4285714286\n",
      "Standard Deviation 4.24264068712\n",
      "Standard Error 1.60356745147\n"
     ]
    }
   ],
   "source": [
    "lt_o= [1,7,8,10,11,12,14]\n",
    "mean = np.mean(lt_o)\n",
    "median = np.median(lt_o)\n",
    "\n",
    "mode = 0\n",
    "(values, counts)= np.unique(lt_o,return_counts=True)\n",
    "ind = np.argmax(counts)\n",
    "values[ind]\n",
    "\n",
    "variance = np.var(lt_o)\n",
    "s= np.std(lt_o,ddof=1)\n",
    "se = s/(len(lt_o)**.5)\n",
    "\n",
    "print (\"Mean\" , mean)\n",
    "print (\"Median\", median)\n",
    "print (\"Mode\", mode)\n",
    "print (\"Variance\", variance)\n",
    "print (\"Standard Deviation\", s)\n",
    "print (\"Standard Error\", se)"
   ]
  },
  {
   "cell_type": "markdown",
   "metadata": {},
   "source": [
    "## 5\n",
    "Assumptions: \n",
    "\n",
    "1. Viewers of 4 shows don't overlap\n",
    "2. Viewers of 4 shows make up 75% of adult American population\n",
    "\n",
    "Answer:\n",
    "\n",
    "I would estimate 16.25% (+-3%) of adult Americans were Brady Bunch fans on the 50th anniversary of the show.\n"
   ]
  },
  {
   "cell_type": "code",
   "execution_count": 43,
   "metadata": {
    "collapsed": false
   },
   "outputs": [
    {
     "name": "stdout",
     "output_type": "stream",
     "text": [
      "Mean viewer_rating    0.1625\n",
      "dtype: float64\n",
      "Standard Deviation viewer_rating    0.078899\n",
      "dtype: float64\n",
      "Standard Error viewer_rating    0.034164\n",
      "dtype: float64\n"
     ]
    }
   ],
   "source": [
    "import pandas as pd\n",
    "import matplotlib.pyplot as plt\n",
    "\n",
    "sample = pd.DataFrame()\n",
    "\n",
    "sample['viewer_rating'] = [(20/100),(23/100),(17/100),(5/100)]\n",
    "\n",
    "\n",
    "sample_m= sample.mean()\n",
    "sample_s= np.std(sample, ddof=1)\n",
    "sample_se= sample_s/((len(sample)/.75)**.5)\n",
    "\n",
    "print (\"Mean\", sample_m)\n",
    "print (\"Standard Deviation\", sample_s)\n",
    "print (\"Standard Error\", sample_se)"
   ]
  }
 ],
 "metadata": {
  "kernelspec": {
   "display_name": "Python 3",
   "language": "python",
   "name": "python3"
  },
  "language_info": {
   "codemirror_mode": {
    "name": "ipython",
    "version": 3
   },
   "file_extension": ".py",
   "mimetype": "text/x-python",
   "name": "python",
   "nbconvert_exporter": "python",
   "pygments_lexer": "ipython3",
   "version": "3.6.1"
  }
 },
 "nbformat": 4,
 "nbformat_minor": 2
}
