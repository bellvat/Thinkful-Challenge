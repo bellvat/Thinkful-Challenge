{
 "cells": [
  {
   "cell_type": "markdown",
   "metadata": {},
   "source": [
    "# Planning Document\n",
    "\n",
    "Monica S.\n",
    "\n",
    "June 5, 2017"
   ]
  },
  {
   "cell_type": "markdown",
   "metadata": {},
   "source": [
    "### What data science means\n",
    "\n",
    "As a result of the 'radar' challenge, I was identified as a communicator. I think a data scientist is someone who can use programming to extract data, organize and present data, and use statistics or math as a tool to analyze the data in a meaningful way. Part of data science is collecting and maintaining the actual data, which is where technologists and database experts would come into the picture."
   ]
  },
  {
   "cell_type": "markdown",
   "metadata": {},
   "source": [
    "### List of jobs in Singapore, Thailand and Los Angeles\n",
    "1. Data Scientist, Company: Pontoon Solutions, Singapore\n",
    "    - I'd like to work in this company because part of the job description mentions design solution architectore and Big Data Anaytics.\n",
    "2. Data Scientist, Company: Rakuten Asia Pte LTD, Singapore\n",
    "    - Rakuten Institute of Technology is a Thinktank for Rakuten Company. I like that in this is a researching job, allowing me to dive deep into Statistics, Graph Analysis (and many more).\n",
    "3. Data Science Architect, Company: US Bank, Los Angeles\n",
    "    - I like this because it involves data architecture, specifically the following: Plan and perform activities regarding design and support of logical data models and logical messaging schemas for systems development.\n",
    "4. Data Science, Company: Nielsen, Thailand\n",
    "    - I am interested because it will allow for me to solve client and internal issues using Data Science as well as communicate to stakeholders using data.\n",
    "5. Analytic Data Scientist, Company: Allianz Ayudhya Assurance, PCL\n",
    "    - I am interested because this role involves using data modeling to solve problems and communicating results to management."
   ]
  },
  {
   "cell_type": "markdown",
   "metadata": {},
   "source": [
    "### List of companies\n",
    "1. Behavioral Insights Team, Brooklyn\n",
    "    - I am interested because the company describes itself as evidenced based policy and involves Randomized Controlled Trials.\n",
    "2. Expedia, Bellevue\n",
    "    - I am interested because I feel like Expedia is a useful company and I will gain experience with correlation and measuring marketing impact.\n",
    "3. Amazon, Transaction Risk Management Services 'Risk Mining', Seattle\n",
    "    - I am interested in modeling problems and designing experiments.\n",
    "4. Agoda, Bangkok\n",
    "    - I am interested in the company because I have used its hotel booking website. The role allows modeling through machine learning.\n",
    "5. IBM, Bangkok\n",
    "    - Cognitive Systems Technical Specialist. I am interested because this job allows for looking at the infrastructure and design."
   ]
  },
  {
   "cell_type": "markdown",
   "metadata": {},
   "source": [
    "### Event\n",
    "1. ThaiPy- Bangkok Python Meetup (June 8th event)\n",
    "2. Bangkok Tech Buddies - DevX\n",
    "3. BKK/hack-Code, Construct, Learn, Share"
   ]
  },
  {
   "cell_type": "markdown",
   "metadata": {},
   "source": [
    "### Ideal Job- Technical\n",
    "I am looking for a job that involves empirical research, which may involve data wrangling, machine learning, math and programming in order to analyze real world data to provide insight into past trends which can affect future impactful decisions made by the public or private sector. In addition, I am interested in jobs as a technologist, building and maintaining infrastructure."
   ]
  },
  {
   "cell_type": "markdown",
   "metadata": {},
   "source": [
    "### Ideal Job-Non-Technical\n",
    "I am looking for a job that would allow me to perform work as a data researcher, using statistics to model and test real world trends in order to enable those in power to make informed decisions about government policies, laws or corporate spending.<br\\> Alternatively, I think I am also interested in the databases and how data is being stored or flowed."
   ]
  },
  {
   "cell_type": "markdown",
   "metadata": {},
   "source": [
    "### Professional Summary\n",
    "\n",
    "I am interested in data research, which may involve data wrangling, machine learning, math and programming in order to analyze real world data to provide insight into past trends which can affect future impactful decisions made by the public or private sector. <br\\>\n",
    "In addition, I am interested in jobs as a technologist, building and maintaining data infrastructure."
   ]
  }
 ],
 "metadata": {
  "kernelspec": {
   "display_name": "Python 3",
   "language": "python",
   "name": "python3"
  },
  "language_info": {
   "codemirror_mode": {
    "name": "ipython",
    "version": 3
   },
   "file_extension": ".py",
   "mimetype": "text/x-python",
   "name": "python",
   "nbconvert_exporter": "python",
   "pygments_lexer": "ipython3",
   "version": "3.6.1"
  }
 },
 "nbformat": 4,
 "nbformat_minor": 2
}
