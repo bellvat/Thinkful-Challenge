{
 "cells": [
  {
   "cell_type": "markdown",
   "metadata": {},
   "source": [
    "## Thinkful Prepcourse- Beware Monty Hall\n",
    "\n",
    "Monica S.\n",
    "\n",
    "May 27, 2017"
   ]
  },
  {
   "cell_type": "markdown",
   "metadata": {},
   "source": [
    "Layout\n",
    "\n",
    "P(A) = 1/3\n",
    "\n",
    "P(B) = 1/3\n",
    "\n",
    "P(C) = 1/3\n",
    "\n",
    "P(NJ|A) = 1/2\n",
    "\n",
    "P(NJ|B) = 1/2\n",
    "\n",
    "P(NJ|C) = 1\n",
    "\n",
    "P(A|NJ) = P(NJ|A)xP(A)/P(A)xP(NJ|A) +P(B)xP(NJ|B) +P(C)xP(NJ|C)"
   ]
  },
  {
   "cell_type": "code",
   "execution_count": 1,
   "metadata": {
    "collapsed": false
   },
   "outputs": [
    {
     "data": {
      "text/plain": [
       "0.25"
      ]
     },
     "execution_count": 1,
     "metadata": {},
     "output_type": "execute_result"
    }
   ],
   "source": [
    "#Probability that A or Probability that B will be the Jackpot given previously C having no Jackpot\n",
    ".5*.3333/(.3333*.5 + .3333*.5 + .3333*1)"
   ]
  }
 ],
 "metadata": {
  "kernelspec": {
   "display_name": "Python 3",
   "language": "python",
   "name": "python3"
  },
  "language_info": {
   "codemirror_mode": {
    "name": "ipython",
    "version": 3
   },
   "file_extension": ".py",
   "mimetype": "text/x-python",
   "name": "python",
   "nbconvert_exporter": "python",
   "pygments_lexer": "ipython3",
   "version": "3.6.1"
  }
 },
 "nbformat": 4,
 "nbformat_minor": 2
}
