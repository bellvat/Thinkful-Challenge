{
 "cells": [
  {
   "cell_type": "markdown",
   "metadata": {},
   "source": [
    "## Thinkful Prepcourse - Drill - Descriptive Statistics and Normality\n",
    "\n",
    "Monica S.\n",
    "\n",
    "May 29, 2017"
   ]
  },
  {
   "cell_type": "code",
   "execution_count": 2,
   "metadata": {
    "collapsed": true
   },
   "outputs": [],
   "source": [
    "import numpy as np\n",
    "import pandas as pd\n",
    "import matplotlib.pyplot as plt\n",
    "%matplotlib inline"
   ]
  },
  {
   "cell_type": "markdown",
   "metadata": {},
   "source": [
    "## 1 Logistic\n",
    "\n",
    "The standard deviation as depicted on logistic distribution appear to useful in providing information about the variable.\n",
    "\n",
    "However, the data is clustered around the mean but not centered."
   ]
  },
  {
   "cell_type": "code",
   "execution_count": 12,
   "metadata": {
    "collapsed": false
   },
   "outputs": [
    {
     "data": {
      "image/png": "[encoded data removed]",
      "text/plain": [
       "<matplotlib.figure.Figure at 0x1141cfbe0>"
      ]
     },
     "metadata": {},
     "output_type": "display_data"
    }
   ],
   "source": [
    "logistic = np.random.logistic(5,1,100)\n",
    "\n",
    "plt.axvline(logistic.mean(), color ='c', linestyle='dashed',linewidth=2)\n",
    "plt.axvline(logistic.mean()+gamma.std(),color='c',linestyle='dashed',linewidth=2)\n",
    "plt.axvline(logistic.mean()-gamma.std(),color='c',linestyle='dashed',linewidth=2)\n",
    "plt.hist(logistic)\n",
    "plt.show()"
   ]
  },
  {
   "cell_type": "markdown",
   "metadata": {},
   "source": [
    "## 2 Pareto\n",
    "\n",
    "A majority of the data falls within 1 standard deviation negative of the mean, which is consistent with the 80-20 pareto rule.\n",
    "\n",
    "However, the mean is not useful in analysing the data."
   ]
  },
  {
   "cell_type": "code",
   "execution_count": 13,
   "metadata": {
    "collapsed": false
   },
   "outputs": [
    {
     "data": {
      "image/png": "[encoded data removed]",
      "text/plain": [
       "<matplotlib.figure.Figure at 0x114300f98>"
      ]
     },
     "metadata": {},
     "output_type": "display_data"
    }
   ],
   "source": [
    "pareto=np.random.pareto(3,100)\n",
    "\n",
    "plt.axvline(pareto.mean(),color='c',linestyle='dashed',linewidth=2)\n",
    "plt.axvline(pareto.mean()+pareto.std(),color='c',linestyle='dashed',linewidth=2)\n",
    "plt.axvline(pareto.mean()-pareto.std(),color='c',linestyle='dashed',linewidth=2)\n",
    "\n",
    "plt.hist(pareto)\n",
    "plt.show()"
   ]
  },
  {
   "cell_type": "markdown",
   "metadata": {},
   "source": [
    "## 3 Triangular\n",
    "\n",
    "The mean is consistent with the 'central tendency' of a normal distribution.\n",
    "\n",
    "However, it appears like data is skewed more within the standard deviation of -1."
   ]
  },
  {
   "cell_type": "code",
   "execution_count": 14,
   "metadata": {
    "collapsed": false,
    "scrolled": true
   },
   "outputs": [
    {
     "data": {
      "image/png": "[encoded data removed]",
      "text/plain": [
       "<matplotlib.figure.Figure at 0x1140977f0>"
      ]
     },
     "metadata": {},
     "output_type": "display_data"
    }
   ],
   "source": [
    "triangular= np.random.triangular(1,2,3,100)\n",
    "\n",
    "plt.axvline(triangular.mean(),color='c',linestyle='dashed',linewidth=2)\n",
    "plt.axvline(triangular.mean()+triangular.std(),color='c',linestyle='dashed',linewidth=2)\n",
    "plt.axvline(triangular.mean()-triangular.std(),color='c',linestyle='dashed',linewidth=2)\n",
    "\n",
    "plt.hist(triangular)\n",
    "plt.show()"
   ]
  },
  {
   "cell_type": "markdown",
   "metadata": {},
   "source": [
    "## 4 Uniform\n",
    "\n",
    "The mean represents the central tendency.\n",
    "\n",
    "However, the data under each 1 standard deviation appears to be consistent and does not decrease with distance from the mean."
   ]
  },
  {
   "cell_type": "code",
   "execution_count": 15,
   "metadata": {
    "collapsed": false,
    "scrolled": true
   },
   "outputs": [
    {
     "data": {
      "image/png": "[encoded data removed]",
      "text/plain": [
       "<matplotlib.figure.Figure at 0x11431c1d0>"
      ]
     },
     "metadata": {},
     "output_type": "display_data"
    }
   ],
   "source": [
    "uniform=np.random.uniform(0,3,100)\n",
    "\n",
    "plt.axvline(uniform.mean(),color='c',linestyle='dashed',linewidth=2)\n",
    "plt.axvline(uniform.mean() + uniform.std(),color='c',linestyle='dashed',linewidth=2)\n",
    "plt.axvline(uniform.mean() - uniform.std(), color='c',linestyle='dashed',linewidth=2)\n",
    "\n",
    "plt.hist(uniform)\n",
    "plt.show()"
   ]
  },
  {
   "cell_type": "markdown",
   "metadata": {},
   "source": [
    "## 5 Vonmises\n",
    "\n",
    "Data is clustered around the mean; however the mean is slightly to the right of center. The standard deviation appears to be close to that of normal distribution, but is skewed more to the left of the mean."
   ]
  },
  {
   "cell_type": "code",
   "execution_count": 17,
   "metadata": {
    "collapsed": false
   },
   "outputs": [
    {
     "data": {
      "image/png": "[encoded data removed]",
      "text/plain": [
       "<matplotlib.figure.Figure at 0x113ecf0b8>"
      ]
     },
     "metadata": {},
     "output_type": "display_data"
    }
   ],
   "source": [
    "vonmises=np.random.vonmises(1,.5,100)\n",
    "\n",
    "plt.axvline(vonmises.mean(),color='c',linestyle='dashed',linewidth=2)\n",
    "plt.axvline(vonmises.mean() + vonmises.std(), color='c', linestyle='dashed',linewidth=2)\n",
    "plt.axvline(vonmises.mean() - vonmises.std(), color='c', linestyle='dashed',linewidth=2)\n",
    "\n",
    "plt.hist(vonmises)\n",
    "plt.show()"
   ]
  },
  {
   "cell_type": "markdown",
   "metadata": {},
   "source": [
    "## 6 Zipf\n",
    "\n",
    "The standard deviation and mean do not appear to be useful to describe data in the Zipf distribution."
   ]
  },
  {
   "cell_type": "code",
   "execution_count": 20,
   "metadata": {
    "collapsed": false
   },
   "outputs": [
    {
     "data": {
      "image/png": "[encoded data removed]",
      "text/plain": [
       "<matplotlib.figure.Figure at 0x114203ef0>"
      ]
     },
     "metadata": {},
     "output_type": "display_data"
    }
   ],
   "source": [
    "zipf = np.random.zipf(2,100)\n",
    "\n",
    "plt.axvline(zipf.mean(),color='c',linestyle='dashed',linewidth=2)\n",
    "plt.axvline(zipf.mean()+ zipf.std(),color='c',linestyle='dashed',linewidth=2)\n",
    "plt.axvline(zipf.mean()- zipf.std(),color='c',linestyle='dashed',linewidth=2)\n",
    "\n",
    "plt.hist(zipf)\n",
    "plt.show()"
   ]
  },
  {
   "cell_type": "markdown",
   "metadata": {},
   "source": [
    "## Addition\n",
    "\n",
    "When 2 normal distributions are added, the mean of the first and second variable are summed. However, the standard deviation becomes that of the variable with the higher standard deviation."
   ]
  },
  {
   "cell_type": "code",
   "execution_count": 22,
   "metadata": {
    "collapsed": false
   },
   "outputs": [
    {
     "data": {
      "image/png": "[encoded data removed]",
      "text/plain": [
       "<matplotlib.figure.Figure at 0x114452358>"
      ]
     },
     "metadata": {},
     "output_type": "display_data"
    }
   ],
   "source": [
    "var1= np.random.normal(5,.5, 100)\n",
    "var2= np.random.normal(10,1,100)\n",
    "\n",
    "var3= var1+var2\n",
    "\n",
    "plt.axvline(var3.mean(), color='c',linestyle='dashed',linewidth=2)\n",
    "plt.axvline(var3.mean()+var3.std(), color='c',linestyle='dashed',linewidth=2)\n",
    "plt.axvline(var3.mean()-var3.std(),color='c',linestyle='dashed',linewidth=2)\n",
    "\n",
    "plt.hist(var3)\n",
    "plt.show()\n"
   ]
  }
 ],
 "metadata": {
  "kernelspec": {
   "display_name": "Python 3",
   "language": "python",
   "name": "python3"
  },
  "language_info": {
   "codemirror_mode": {
    "name": "ipython",
    "version": 3
   },
   "file_extension": ".py",
   "mimetype": "text/x-python",
   "name": "python",
   "nbconvert_exporter": "python",
   "pygments_lexer": "ipython3",
   "version": "3.6.1"
  }
 },
 "nbformat": 4,
 "nbformat_minor": 2
}
