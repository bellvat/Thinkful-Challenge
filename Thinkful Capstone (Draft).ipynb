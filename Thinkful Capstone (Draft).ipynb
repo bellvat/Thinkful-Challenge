{
 "cells": [
  {
   "cell_type": "markdown",
   "metadata": {},
   "source": [
    "## A Closer Look at Religion in Australia and Canada\n",
    "\n",
    "Monica S. \n",
    "\n",
    "June 5, 2017\n",
    "\n",
    "### Introduction\n",
    "At this day and age, being religious appears to be less and less 'cool', especially among millenials or those who live in urban areas. This is the general sense I've gathered, and by no means a declaration of confidence.\n",
    "\n",
    "Tyler Cowen, an Economics professor at the University of Chicago, sees a correlation between religion and the general health of America. This lead me to want to examine religion at a preliminary level. What was, and what is now the dominant religion? Is there data to prove we have been getting less religious? Which religions have been gaining status?\n",
    "\n",
    "### Dataset\n",
    "The data set I've chosen is a result of multiple surveys produced by the UN, from 1995-2011. The UN surveyed individuals across 108 countries, collecting the following data: country of residence, rural or urban residence, male or female and identified religion.\n",
    "\n",
    "Some countries have been surveyed twice with a considerable gap in between. I have chosen 2 countries, Australia and Canada, that appear in the 2001 and again in the 2011 survey, as samples for this report. \n",
    "\n",
    "In using the two countries, I am not focused on the sex of the surveyee, or whether he/she lives in rural or urban areas, and I have therefore omitted those details in my analysis.\n",
    "\n",
    "### Is religion normally distributed?\n",
    "Using data from Canada and Australia for 2001 and 2011, I calculated and plotted the percentage of each religion in each country for each year. Below are two distributions that show random sample sizes of 300 and 1,000. At 300 random samples, data appears to be slightly positively skewed. However, overall, the data appears to be normally distributed. At 1,000 random samples, the skew diminishes. \n",
    "<img src=\"files/Fig1.png\">"
   ]
  },
  {
   "cell_type": "markdown",
   "metadata": {},
   "source": [
    "### Question 1: What is the most dominant religion in Australia and Canada in 2001 and 2011?\n",
    "In order to determine the most dominant religion, I calculated the population of people identified with each religion as a percentage of the total population for the country and the year. <br\\>\n",
    "Catholicism is the dominant religion in Australia in both 2001 and 2011 at approximately 25%.<br\\>\n",
    "Roman Catholicism is the dominant religion in Canada in both 2001 and 2011 at approximately 40%.\n",
    "<img src=\"files/Fig2.png\">\n",
    "<img src=\"files/Fig3.png\">\n",
    "<img src=\"files/Fig4.png\">"
   ]
  },
  {
   "cell_type": "markdown",
   "metadata": {},
   "source": [
    "### Question 2: Have individuals in Canada and Australia become less religious from 2001 to 2011?\n",
    "In order to identify with no religion, the survey lists a 'No Religion' category. <br\\>\n",
    "For Canada and Australia from 2001 to 2011, individuals identified as 'No Religion' increased by approximately 7 percentage points.\n",
    "<img src=\"files/Fig5.png\">"
   ]
  },
  {
   "cell_type": "markdown",
   "metadata": {},
   "source": [
    "### Question 3: What religions are gaining popularity in Australia and Canada from 2001 to 2011?\n",
    "In Australia, individuals increased identification as Christian, Hindu, Islam, Buddhist and Sikh from 2001 to 2011. \n",
    "\n",
    "*Note: Eastern Orthodox is listed in the top five positive changes. However, upon further analysis, it appears 'Orthodox'was changed to 'Eastern Orthodox' in the 2011 survey.*\n",
    "\n",
    "In Canada, individuals increased identification as Islam, Christian, Sikh, Evangelical and Pentecostal from 2001 to 2011.\n",
    "\n",
    "<img src=\"files/Fig6.png\">\n",
    "<img src=\"files/Fig7.png\">"
   ]
  },
  {
   "cell_type": "markdown",
   "metadata": {},
   "source": [
    "### Further Research\n",
    "\n",
    "My interest in religion stemmed from the question, 'Does religion affect the wealth of a nation?' In this report, I was able to analyze a few points about religion in two developed countries, Australia and Canada. In further research, I would like to plot the correlation between religiosity and a nation's wealth, using GDP as a measure of wealth and sampling across developed countries."
   ]
  },
  {
   "cell_type": "markdown",
   "metadata": {},
   "source": [
    "### Source\n",
    "\n",
    "UN Data from the following website: Source http://data.un.org/Data.aspx?q=religion&d=POP&f=tableCode%3a28\n",
    "\n",
    "Link to download CSV file: https://github.com/bellvat/Thinkful-Challenge/blob/master/UNdata_religion.csv"
   ]
  }
 ],
 "metadata": {
  "kernelspec": {
   "display_name": "Python 3",
   "language": "python",
   "name": "python3"
  },
  "language_info": {
   "codemirror_mode": {
    "name": "ipython",
    "version": 3
   },
   "file_extension": ".py",
   "mimetype": "text/x-python",
   "name": "python",
   "nbconvert_exporter": "python",
   "pygments_lexer": "ipython3",
   "version": "3.6.1"
  }
 },
 "nbformat": 4,
 "nbformat_minor": 2
}
