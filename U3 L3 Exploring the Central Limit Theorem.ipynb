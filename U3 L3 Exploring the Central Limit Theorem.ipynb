{
 "cells": [
  {
   "cell_type": "markdown",
   "metadata": {},
   "source": [
    "## Thinkful Prepcourse- Exploring the Central Limit Theorem\n",
    "\n",
    "Monica S.\n",
    "\n",
    "May 30, 2017"
   ]
  },
  {
   "cell_type": "code",
   "execution_count": 2,
   "metadata": {
    "collapsed": true
   },
   "outputs": [],
   "source": [
    "import numpy as np\n",
    "import pandas as pd\n",
    "import matplotlib.pyplot as plt\n",
    "%matplotlib inline"
   ]
  },
  {
   "cell_type": "code",
   "execution_count": 3,
   "metadata": {
    "collapsed": false
   },
   "outputs": [
    {
     "data": {
      "image/png": "[encoded data removed]",
      "text/plain": [
       "<matplotlib.figure.Figure at 0x10242bcc0>"
      ]
     },
     "metadata": {},
     "output_type": "display_data"
    }
   ],
   "source": [
    "pop1 = np.random.binomial(10,.2,10000)\n",
    "pop2 = np.random.binomial(10, .5, 10000)\n",
    "\n",
    "plt.hist(pop1, alpha = .5, label='Population 1')\n",
    "plt.hist(pop2, alpha = .5, label='Population 2')\n",
    "plt.legend(loc='upper right')\n",
    "plt.show()"
   ]
  },
  {
   "cell_type": "code",
   "execution_count": 4,
   "metadata": {
    "collapsed": false
   },
   "outputs": [
    {
     "data": {
      "image/png": "[encoded data removed]",
      "text/plain": [
       "<matplotlib.figure.Figure at 0x1077652e8>"
      ]
     },
     "metadata": {},
     "output_type": "display_data"
    }
   ],
   "source": [
    "sample1= np.random.choice(pop1, 100, replace=True)\n",
    "sample2= np.random.choice(pop2, 100, replace=True)\n",
    "\n",
    "plt.hist(sample1, alpha=.5, label='sample 1')\n",
    "plt.hist(sample2, alpha=.5, label='sample 2')\n",
    "plt.legend(loc='upper right')\n",
    "plt.show()"
   ]
  },
  {
   "cell_type": "code",
   "execution_count": 7,
   "metadata": {
    "collapsed": false
   },
   "outputs": [
    {
     "name": "stdout",
     "output_type": "stream",
     "text": [
      "Mean 1.88\n",
      "Mean 4.9\n",
      "SD 1.22702893201\n",
      "SD 1.59687194227\n"
     ]
    }
   ],
   "source": [
    "print('Mean',sample1.mean())\n",
    "print('Mean', sample2.mean())\n",
    "print('SD', sample1.std())\n",
    "print('SD', sample2.std())\n"
   ]
  },
  {
   "cell_type": "markdown",
   "metadata": {
    "collapsed": true
   },
   "source": [
    "## 1\n",
    "\n",
    "Increased sample size from 100 to 1000:\n",
    "\n",
    "- Increased mean for pop1 and pop2\n",
    "- Increased SD for pop1\n",
    "- Decreased SD for pop2\n",
    "\n",
    "Decreased sample size from 100 to 20:\n",
    "- Increased mean for pop1 and pop2\n",
    "- Decreased SD for pop1 and pop2\n"
   ]
  },
  {
   "cell_type": "code",
   "execution_count": 10,
   "metadata": {
    "collapsed": false
   },
   "outputs": [
    {
     "data": {
      "image/png": "[encoded data removed]",
      "text/plain": [
       "<matplotlib.figure.Figure at 0x1079204e0>"
      ]
     },
     "metadata": {},
     "output_type": "display_data"
    }
   ],
   "source": [
    "sample3= np.random.choice(pop1, 1000, replace=True)\n",
    "sample4= np.random.choice(pop2, 1000, replace=True)\n",
    "\n",
    "plt.hist(sample3, alpha=.5, label='sample 3')\n",
    "plt.hist(sample4, alpha=.5, label='sample 4')\n",
    "plt.legend(loc='upper right')\n",
    "plt.show()"
   ]
  },
  {
   "cell_type": "code",
   "execution_count": 9,
   "metadata": {
    "collapsed": false
   },
   "outputs": [
    {
     "name": "stdout",
     "output_type": "stream",
     "text": [
      "Mean 1.966\n",
      "Mean 4.99\n",
      "SD 1.27312371748\n",
      "SD 1.49328496945\n"
     ]
    }
   ],
   "source": [
    "print('Mean',sample3.mean())\n",
    "print('Mean', sample4.mean())\n",
    "print('SD', sample3.std())\n",
    "print('SD', sample4.std())"
   ]
  },
  {
   "cell_type": "code",
   "execution_count": 11,
   "metadata": {
    "collapsed": false
   },
   "outputs": [
    {
     "data": {
      "image/png": "[encoded data removed]",
      "text/plain": [
       "<matplotlib.figure.Figure at 0x107704198>"
      ]
     },
     "metadata": {},
     "output_type": "display_data"
    }
   ],
   "source": [
    "sample5= np.random.choice(pop1, 20, replace=True)\n",
    "sample6= np.random.choice(pop2, 20, replace=True)\n",
    "\n",
    "plt.hist(sample5, alpha=.5, label='sample 5')\n",
    "plt.hist(sample6, alpha=.5, label='sample 6')\n",
    "plt.legend(loc='upper right')\n",
    "plt.show()"
   ]
  },
  {
   "cell_type": "code",
   "execution_count": 12,
   "metadata": {
    "collapsed": false
   },
   "outputs": [
    {
     "name": "stdout",
     "output_type": "stream",
     "text": [
      "Mean 2.15\n",
      "Mean 5.0\n",
      "SD 1.01365674664\n",
      "SD 1.44913767462\n"
     ]
    }
   ],
   "source": [
    "print('Mean',sample5.mean())\n",
    "print('Mean', sample6.mean())\n",
    "print('SD', sample5.std())\n",
    "print('SD', sample6.std())"
   ]
  },
  {
   "cell_type": "markdown",
   "metadata": {},
   "source": [
    "## 2\n",
    "\n",
    "Increase population value of pop1 from .4 to .5:\n",
    "\n",
    "- Mean increased for both pop\n",
    "- SD increased for one pop and lowered for other pop\n",
    "- P Value increased"
   ]
  },
  {
   "cell_type": "code",
   "execution_count": 14,
   "metadata": {
    "collapsed": false
   },
   "outputs": [
    {
     "data": {
      "image/png": "[encoded data removed]",
      "text/plain": [
       "<matplotlib.figure.Figure at 0x10798e940>"
      ]
     },
     "metadata": {},
     "output_type": "display_data"
    }
   ],
   "source": [
    "pop3 = np.random.binomial(10,.3,10000)\n",
    "pop4 = np.random.binomial(10, .5, 10000)\n",
    "\n",
    "plt.hist(pop3, alpha = .5, label='Population 3')\n",
    "plt.hist(pop4, alpha = .5, label='Population 4')\n",
    "plt.legend(loc='upper right')\n",
    "plt.show()"
   ]
  },
  {
   "cell_type": "code",
   "execution_count": 15,
   "metadata": {
    "collapsed": false
   },
   "outputs": [
    {
     "data": {
      "image/png": "[encoded data removed]",
      "text/plain": [
       "<matplotlib.figure.Figure at 0x107b2d710>"
      ]
     },
     "metadata": {},
     "output_type": "display_data"
    }
   ],
   "source": [
    "sample7= np.random.choice(pop3, 100, replace=True)\n",
    "sample8= np.random.choice(pop4, 100, replace=True)\n",
    "\n",
    "plt.hist(sample7, alpha=.5, label='sample 7')\n",
    "plt.hist(sample8, alpha=.5, label='sample 8')\n",
    "plt.legend(loc='upper right')\n",
    "plt.show()"
   ]
  },
  {
   "cell_type": "code",
   "execution_count": 17,
   "metadata": {
    "collapsed": false
   },
   "outputs": [
    {
     "name": "stdout",
     "output_type": "stream",
     "text": [
      "Mean 3.06\n",
      "Mean 4.93\n",
      "SD 1.44789502382\n",
      "SD 1.58905632373\n",
      "Diff 1.87\n"
     ]
    }
   ],
   "source": [
    "print('Mean', sample7.mean())\n",
    "print('Mean', sample8.mean())\n",
    "print('SD', sample7.std())\n",
    "print('SD', sample8.std())\n",
    "\n",
    "diff=sample8.mean()-sample7.mean()\n",
    "print('Diff', diff)"
   ]
  },
  {
   "cell_type": "code",
   "execution_count": 18,
   "metadata": {
    "collapsed": false
   },
   "outputs": [
    {
     "name": "stdout",
     "output_type": "stream",
     "text": [
      "8.69861536894\n"
     ]
    }
   ],
   "source": [
    "size = np.array([len(sample7), len(sample8)])\n",
    "sd = np.array([sample7.std(), sample8.std()])\n",
    "\n",
    "diff_se = sum(sd**2 /size)**.5\n",
    "\n",
    "print(diff/diff_se)"
   ]
  },
  {
   "cell_type": "code",
   "execution_count": 19,
   "metadata": {
    "collapsed": false
   },
   "outputs": [
    {
     "name": "stdout",
     "output_type": "stream",
     "text": [
      "Ttest_indResult(statistic=8.6550130123199391, pvalue=1.7779767065388747e-15)\n"
     ]
    }
   ],
   "source": [
    "from scipy.stats import ttest_ind\n",
    "print(ttest_ind(sample8, sample7, equal_var=False))"
   ]
  },
  {
   "cell_type": "code",
   "execution_count": 20,
   "metadata": {
    "collapsed": false
   },
   "outputs": [
    {
     "data": {
      "image/png": "[encoded data removed]",
      "text/plain": [
       "<matplotlib.figure.Figure at 0x1079264e0>"
      ]
     },
     "metadata": {},
     "output_type": "display_data"
    }
   ],
   "source": [
    "pop5 = np.random.binomial(10,.4,10000)\n",
    "pop6 = np.random.binomial(10, .5, 10000)\n",
    "\n",
    "plt.hist(pop5, alpha = .5, label='Population 5')\n",
    "plt.hist(pop6, alpha = .5, label='Population 6')\n",
    "plt.legend(loc='upper right')\n",
    "plt.show()"
   ]
  },
  {
   "cell_type": "code",
   "execution_count": 21,
   "metadata": {
    "collapsed": false,
    "scrolled": true
   },
   "outputs": [
    {
     "data": {
      "image/png": "[encoded data removed]",
      "text/plain": [
       "<matplotlib.figure.Figure at 0x107adf438>"
      ]
     },
     "metadata": {},
     "output_type": "display_data"
    }
   ],
   "source": [
    "sample9= np.random.choice(pop5, 100, replace=True)\n",
    "sample10= np.random.choice(pop6, 100, replace=True)\n",
    "\n",
    "plt.hist(sample9, alpha=.5, label='sample 9')\n",
    "plt.hist(sample10, alpha=.5, label='sample 10')\n",
    "plt.legend(loc='upper right')\n",
    "plt.show()"
   ]
  },
  {
   "cell_type": "code",
   "execution_count": 25,
   "metadata": {
    "collapsed": false
   },
   "outputs": [
    {
     "name": "stdout",
     "output_type": "stream",
     "text": [
      "Mean 3.98\n",
      "Mean 4.98\n",
      "SD 1.46273716026\n",
      "SD 1.50319659393\n",
      "Diff 1.0\n"
     ]
    }
   ],
   "source": [
    "print('Mean', sample9.mean())\n",
    "print('Mean', sample10.mean())\n",
    "print('SD', sample9.std())\n",
    "print('SD', sample10.std())\n",
    "\n",
    "diff2=sample10.mean()-sample9.mean()\n",
    "print('Diff', diff2)"
   ]
  },
  {
   "cell_type": "code",
   "execution_count": 26,
   "metadata": {
    "collapsed": false
   },
   "outputs": [
    {
     "name": "stdout",
     "output_type": "stream",
     "text": [
      "4.76774639742\n"
     ]
    }
   ],
   "source": [
    "size = np.array([len(sample9), len(sample10)])\n",
    "sd = np.array([sample9.std(), sample10.std()])\n",
    "\n",
    "diff_se2 = sum(sd**2 /size)**.5\n",
    "\n",
    "print(diff2/diff_se2)"
   ]
  },
  {
   "cell_type": "code",
   "execution_count": 27,
   "metadata": {
    "collapsed": false
   },
   "outputs": [
    {
     "name": "stdout",
     "output_type": "stream",
     "text": [
      "Ttest_indResult(statistic=4.7438477687450984, pvalue=4.0092683933639022e-06)\n"
     ]
    }
   ],
   "source": [
    "print(ttest_ind(sample10, sample9, equal_var=False))"
   ]
  },
  {
   "cell_type": "markdown",
   "metadata": {},
   "source": [
    "## 3\n",
    "\n",
    "Per observation, the sample mean still represents the population values."
   ]
  },
  {
   "cell_type": "code",
   "execution_count": 28,
   "metadata": {
    "collapsed": false
   },
   "outputs": [
    {
     "data": {
      "image/png": "[encoded data removed]",
      "text/plain": [
       "<matplotlib.figure.Figure at 0x107e123c8>"
      ]
     },
     "metadata": {},
     "output_type": "display_data"
    }
   ],
   "source": [
    "pop7 = np.random.gamma(10,.2,10000)\n",
    "pop8 = np.random.gamma(10, .5, 10000)\n",
    "\n",
    "plt.hist(pop7, alpha = .5, label='Population 7')\n",
    "plt.hist(pop8, alpha = .5, label='Population 8')\n",
    "plt.legend(loc='upper right')\n",
    "plt.show()"
   ]
  },
  {
   "cell_type": "code",
   "execution_count": 29,
   "metadata": {
    "collapsed": false
   },
   "outputs": [
    {
     "data": {
      "image/png": "[encoded data removed]",
      "text/plain": [
       "<matplotlib.figure.Figure at 0x1097bd0b8>"
      ]
     },
     "metadata": {},
     "output_type": "display_data"
    }
   ],
   "source": [
    "sample11= np.random.choice(pop7, 100, replace=True)\n",
    "sample12= np.random.choice(pop8, 100, replace=True)\n",
    "\n",
    "plt.hist(sample11, alpha=.5, label='sample 11')\n",
    "plt.hist(sample12, alpha=.5, label='sample 12')\n",
    "plt.legend(loc='upper right')\n",
    "plt.show()"
   ]
  },
  {
   "cell_type": "code",
   "execution_count": 30,
   "metadata": {
    "collapsed": false
   },
   "outputs": [
    {
     "name": "stdout",
     "output_type": "stream",
     "text": [
      "Mean 2.15384234338\n",
      "Mean 5.23749329406\n",
      "SD 0.707455398852\n",
      "SD 1.66907661944\n"
     ]
    }
   ],
   "source": [
    "print('Mean', sample11.mean())\n",
    "print('Mean', sample12.mean())\n",
    "print('SD', sample11.std())\n",
    "print('SD', sample12.std())"
   ]
  },
  {
   "cell_type": "code",
   "execution_count": null,
   "metadata": {
    "collapsed": true
   },
   "outputs": [],
   "source": []
  }
 ],
 "metadata": {
  "kernelspec": {
   "display_name": "Python 3",
   "language": "python",
   "name": "python3"
  },
  "language_info": {
   "codemirror_mode": {
    "name": "ipython",
    "version": 3
   },
   "file_extension": ".py",
   "mimetype": "text/x-python",
   "name": "python",
   "nbconvert_exporter": "python",
   "pygments_lexer": "ipython3",
   "version": "3.6.1"
  }
 },
 "nbformat": 4,
 "nbformat_minor": 2
}
