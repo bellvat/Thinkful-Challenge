{
 "cells": [
  {
   "cell_type": "markdown",
   "metadata": {},
   "source": [
    "## Thinkful Prepcourse- Drill Exercises on Bayes' Rule\n",
    "Monica S.\n",
    "\n",
    "May 25, 2017"
   ]
  },
  {
   "cell_type": "markdown",
   "metadata": {},
   "source": [
    "## Guess\n",
    "\n",
    "1. Be positive -70%\n",
    "2. Correctly diagnose a sufferer of Thripshaw's -90%\n",
    "3. Correctly identify a non-sufferer of Thripshaw's -90%\n",
    "4. Misclassify the person -10%"
   ]
  },
  {
   "cell_type": "markdown",
   "metadata": {},
   "source": [
    "## 1"
   ]
  },
  {
   "cell_type": "code",
   "execution_count": 28,
   "metadata": {
    "collapsed": false
   },
   "outputs": [
    {
     "name": "stdout",
     "output_type": "stream",
     "text": [
      "0.098\n"
     ]
    }
   ],
   "source": [
    "pos = .98*.1\n",
    "\n",
    "print (pos)"
   ]
  },
  {
   "cell_type": "markdown",
   "metadata": {},
   "source": [
    "## 2"
   ]
  },
  {
   "cell_type": "code",
   "execution_count": 29,
   "metadata": {
    "collapsed": false
   },
   "outputs": [
    {
     "name": "stdout",
     "output_type": "stream",
     "text": [
      "0.0005456691685783647\n"
     ]
    }
   ],
   "source": [
    "# P(P)|P(S) = P(S)|P(P) * P(P)/ P(P)* P(S)|P(P) + P(P~)*P(S)|P(P~)\n",
    "\n",
    "thr_s = .005* pos/(pos*.005+(1-pos)*.995)\n",
    "\n",
    "print (thr_s)"
   ]
  },
  {
   "cell_type": "markdown",
   "metadata": {},
   "source": [
    "## 3"
   ]
  },
  {
   "cell_type": "code",
   "execution_count": 31,
   "metadata": {
    "collapsed": false
   },
   "outputs": [
    {
     "name": "stdout",
     "output_type": "stream",
     "text": [
      "0.9891986024314166\n"
     ]
    }
   ],
   "source": [
    "# P(N)|P(NS) = P(NS)|P(N) * P(N)/(P(N) * P(NS)|P(N) + P(N~)*P(NS)|P(N~)\n",
    "thr_ns =.995* (1-pos)/((1-pos)*.995+pos*.1)\n",
    "\n",
    "print(thr_ns)"
   ]
  },
  {
   "cell_type": "markdown",
   "metadata": {},
   "source": [
    "## 4"
   ]
  },
  {
   "cell_type": "code",
   "execution_count": 32,
   "metadata": {
    "collapsed": false
   },
   "outputs": [
    {
     "name": "stdout",
     "output_type": "stream",
     "text": [
      "0.010795503578952715\n"
     ]
    }
   ],
   "source": [
    "mis = (1-thr_s)*(1-thr_ns)\n",
    "\n",
    "print (mis)"
   ]
  }
 ],
 "metadata": {
  "kernelspec": {
   "display_name": "Python 3",
   "language": "python",
   "name": "python3"
  },
  "language_info": {
   "codemirror_mode": {
    "name": "ipython",
    "version": 3
   },
   "file_extension": ".py",
   "mimetype": "text/x-python",
   "name": "python",
   "nbconvert_exporter": "python",
   "pygments_lexer": "ipython3",
   "version": "3.6.1"
  }
 },
 "nbformat": 4,
 "nbformat_minor": 2
}
